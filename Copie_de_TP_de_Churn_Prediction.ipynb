{
 "cells": [
  {
   "cell_type": "markdown",
   "id": "7fb27b941602401d91542211134fc71a",
   "metadata": {
    "colab_type": "text",
    "id": "view-in-github"
   },
   "source": [
    "<a href=\"https://colab.research.google.com/github/hanabi70/ML_FORMATION/blob/main/Copie_de_TP_de_Churn_Prediction.ipynb\" target=\"_parent\"><img src=\"https://colab.research.google.com/assets/colab-badge.svg\" alt=\"Open In Colab\"/></a>"
   ]
  },
  {
   "cell_type": "markdown",
   "id": "6febe8cd",
   "metadata": {
    "id": "6febe8cd"
   },
   "source": [
    "# TP : Prédiction du Churn avec du machine learning\n",
    "\n",
    "## Objectif du TP\n",
    "\n",
    "L'objectif de ce TP est de créer une API de prédiction du churn (attrition) qui utilise des algorithmes de machine learning. L'API permettra de recevoir des données clients sous forme de requêtes HTTP et, grâce au modèle de machine learning, retourne une prédiction, si un client est susceptible de se désabonner ou non. L'API sera développée en utilisant le framework `Flask` et permettra d'exposer facilement le modèle via un endpoint accessible localement dans un premier temps.Dans un second temps, l'APi sera empaquetée dans un environnement `Docker` et déployée sur un cloud.\n",
    "\n",
    "Ce TP couvrira plusieurs étapes clés : la préparation et l'entraînement du modèle de machine learning, la création et la sérialisation du modèle, la conception de l'API Flask, ainsi que son déploiement dans un conteneur Docker. Les participants auront également l'occasion de tester l'API en envoyant des requêtes avec des outils tels que Postman ou curl, tout en explorant des concepts liés à la conteneurisation avec Docker, facilitant ainsi l'intégration continue et la scalabilité des solutions d'IA\n",
    "\n",
    "\n",
    "## Partie I\n",
    "\n",
    "### Étape 1 : Préparation des données et entraînement du modèle de prédiction (ML)\n",
    "\n",
    "1. **Analyse exploratoire des données (EDA)** : Explorer le dataset fourni, comprendre les caractéristiques des clients et des churns. Utiliser des bibliothèques comme `pandas` et `matplotlib` pour visualiser les données et identifier les tendances.\n",
    "   \n",
    "\n",
    "2. **Prétraitement des données** :\n",
    "   Divisez les données en un ensemble d'entraînement et de test.\n",
    "\n",
    "3. **Entraînement d'un modèle de machine learning** :\n",
    "   Utilisez `statsmodels` pour entraîner un modèle de régression logistique. Interpréter le modèle et sélectionner les variables les plus pertinentes. Mesurer les performances sur le test.\n",
    "\n",
    "3. ** Préparation du modèle** :\n",
    "   Entraîner le modèle avec les variables sélectionnées avec `sklearn`.\n",
    "\n",
    "4. **Sérialisation du modèle** :\n",
    "   Une fois le modèle entraîné, sauvegardez-le sous format`pickle` à l'aide de `joblib` pour pouvoir le charger plus tard dans l'API Flask.\n",
    "\n",
    "\n",
    "### Étape 2 : Création de l'API Flask\n",
    "\n",
    "1. **Création de l'API** :\n",
    "   A l'aide de **Flask**, exposer le modèle en déployant, en local, une API qui recevra les données des clients en entrée et renverra une prédiction (churn ou non churn).\n",
    "\n",
    "\n",
    "2. **Endpoints de l'API** :\n",
    "   L'API doit avoir un endpoint `POST /predict` qui acceptera les caractéristiques d'un client sous forme de **JSON** et retournera une prédiction (churn ou non churn).\n",
    "\n",
    "\n",
    "3. **Chargement du modèle dans l'API** :\n",
    "   Le modèle pré-entraîné sera chargé avec `pickle` et utilisé pour générer des prédictions lors des appels à l'API.\n",
    "\n",
    "\n",
    "### Étape 3 : Test de l'API Flask\n",
    "\n",
    "1. **Test de l'API** :\n",
    "   A l'aide de **request**, tester l'API en local envoyant des requêtes via le endpoint `POST /predict`.\n",
    "   \n",
    "\n",
    "\n",
    "2. **Optionnel** :\n",
    "   Créer une interface `HTML` pour interagit avec l'API d'une manière plus simple et plus intuitive.\n",
    "---\n",
    "\n"
   ]
  },
  {
   "cell_type": "markdown",
   "id": "H-VXhONR7JoE",
   "metadata": {
    "id": "H-VXhONR7JoE"
   },
   "source": [
    "## Import Dependance"
   ]
  },
  {
   "cell_type": "code",
   "execution_count": 216,
   "id": "M5tW3f7NqOnB",
   "metadata": {
    "id": "M5tW3f7NqOnB"
   },
   "outputs": [],
   "source": [
    "import matplotlib.pyplot as plt\n",
    "import seaborn as sns\n",
    "import pandas as pd\n",
    "import numpy as np\n",
    "import statsmodels.api as sm\n",
    "from sklearn.model_selection import train_test_split\n",
    "from sklearn.metrics import confusion_matrix,recall_score,precision_score,f1_score,roc_auc_score"
   ]
  },
  {
   "cell_type": "code",
   "execution_count": 2,
   "id": "h33HM3Riqlx-",
   "metadata": {
    "colab": {
     "base_uri": "https://localhost:8080/"
    },
    "id": "h33HM3Riqlx-",
    "outputId": "9288d77b-6882-42d7-cf09-e5baab5063f5"
   },
   "outputs": [
    {
     "name": "stdout",
     "output_type": "stream",
     "text": [
      "--2025-03-19 13:49:08--  https://raw.githubusercontent.com/RMoulla/MLW_Mars/main/customer_churn.csv\n",
      "Resolving raw.githubusercontent.com (raw.githubusercontent.com)... 185.199.108.133, 185.199.109.133, 185.199.110.133, ...\n",
      "Connecting to raw.githubusercontent.com (raw.githubusercontent.com)|185.199.108.133|:443... connected.\n",
      "HTTP request sent, awaiting response... 200 OK\n",
      "Length: 115479 (113K) [text/plain]\n",
      "Saving to: ‘customer_churn.csv’\n",
      "\n",
      "customer_churn.csv  100%[===================>] 112.77K  --.-KB/s    in 0.02s   \n",
      "\n",
      "2025-03-19 13:49:09 (6.33 MB/s) - ‘customer_churn.csv’ saved [115479/115479]\n",
      "\n"
     ]
    }
   ],
   "source": [
    "!wget -O customer_churn.csv https://raw.githubusercontent.com/RMoulla/MLW_Mars/main/customer_churn.csv"
   ]
  },
  {
   "cell_type": "markdown",
   "id": "Lg_0ZQNC7a5w",
   "metadata": {
    "id": "Lg_0ZQNC7a5w"
   },
   "source": [
    "## Data Formatting"
   ]
  },
  {
   "cell_type": "code",
   "execution_count": 100,
   "id": "dw5Mn7Osp6fp",
   "metadata": {
    "colab": {
     "base_uri": "https://localhost:8080/",
     "height": 501
    },
    "id": "dw5Mn7Osp6fp",
    "outputId": "b4fb16ff-6b7a-44ad-ee80-4e9d38ddb640"
   },
   "outputs": [
    {
     "data": {
      "application/vnd.google.colaboratory.intrinsic+json": {
       "summary": "{\n  \"name\": \"df\",\n  \"rows\": 900,\n  \"fields\": [\n    {\n      \"column\": \"Names\",\n      \"properties\": {\n        \"dtype\": \"string\",\n        \"num_unique_values\": 899,\n        \"samples\": [\n          \"Nicole Jacobson\",\n          \"Kenneth Wilkerson\",\n          \"Robin Sanchez\"\n        ],\n        \"semantic_type\": \"\",\n        \"description\": \"\"\n      }\n    },\n    {\n      \"column\": \"Age\",\n      \"properties\": {\n        \"dtype\": \"number\",\n        \"std\": 6.127560416916246,\n        \"min\": 22.0,\n        \"max\": 65.0,\n        \"num_unique_values\": 36,\n        \"samples\": [\n          22.0,\n          56.0,\n          34.0\n        ],\n        \"semantic_type\": \"\",\n        \"description\": \"\"\n      }\n    },\n    {\n      \"column\": \"Total_Purchase\",\n      \"properties\": {\n        \"dtype\": \"number\",\n        \"std\": 2408.6445318580945,\n        \"min\": 100.0,\n        \"max\": 18026.01,\n        \"num_unique_values\": 900,\n        \"samples\": [\n          13365.66,\n          11695.04,\n          9347.89\n        ],\n        \"semantic_type\": \"\",\n        \"description\": \"\"\n      }\n    },\n    {\n      \"column\": \"Account_Manager\",\n      \"properties\": {\n        \"dtype\": \"number\",\n        \"std\": 0,\n        \"min\": 0,\n        \"max\": 1,\n        \"num_unique_values\": 2,\n        \"samples\": [\n          1,\n          0\n        ],\n        \"semantic_type\": \"\",\n        \"description\": \"\"\n      }\n    },\n    {\n      \"column\": \"Years\",\n      \"properties\": {\n        \"dtype\": \"number\",\n        \"std\": 1.2744490131946138,\n        \"min\": 1.0,\n        \"max\": 9.15,\n        \"num_unique_values\": 418,\n        \"samples\": [\n          4.63,\n          4.53\n        ],\n        \"semantic_type\": \"\",\n        \"description\": \"\"\n      }\n    },\n    {\n      \"column\": \"Num_Sites\",\n      \"properties\": {\n        \"dtype\": \"number\",\n        \"std\": 1.7648355920351064,\n        \"min\": 3.0,\n        \"max\": 14.0,\n        \"num_unique_values\": 12,\n        \"samples\": [\n          4.0,\n          5.0\n        ],\n        \"semantic_type\": \"\",\n        \"description\": \"\"\n      }\n    },\n    {\n      \"column\": \"Onboard_date\",\n      \"properties\": {\n        \"dtype\": \"object\",\n        \"num_unique_values\": 900,\n        \"samples\": [\n          \"2008-07-26 03:00:31\",\n          \"2007-10-12 01:48:51\"\n        ],\n        \"semantic_type\": \"\",\n        \"description\": \"\"\n      }\n    },\n    {\n      \"column\": \"Location\",\n      \"properties\": {\n        \"dtype\": \"string\",\n        \"num_unique_values\": 900,\n        \"samples\": [\n          \"455 Garcia Via Suite 177 Lake Jefferyside, MN 81187\",\n          \"126 Mooney Corners Port Anthonyborough, SD 31819\"\n        ],\n        \"semantic_type\": \"\",\n        \"description\": \"\"\n      }\n    },\n    {\n      \"column\": \"Company\",\n      \"properties\": {\n        \"dtype\": \"string\",\n        \"num_unique_values\": 873,\n        \"samples\": [\n          \"Kelly-Greene\",\n          \"Howell-Valdez\"\n        ],\n        \"semantic_type\": \"\",\n        \"description\": \"\"\n      }\n    },\n    {\n      \"column\": \"Churn\",\n      \"properties\": {\n        \"dtype\": \"number\",\n        \"std\": 0,\n        \"min\": 0,\n        \"max\": 1,\n        \"num_unique_values\": 2,\n        \"samples\": [\n          0,\n          1\n        ],\n        \"semantic_type\": \"\",\n        \"description\": \"\"\n      }\n    }\n  ]\n}",
       "type": "dataframe",
       "variable_name": "df"
      },
      "text/html": [
       "\n",
       "  <div id=\"df-020091ff-2954-435e-bb2a-33905b99a8c7\" class=\"colab-df-container\">\n",
       "    <div>\n",
       "<style scoped>\n",
       "    .dataframe tbody tr th:only-of-type {\n",
       "        vertical-align: middle;\n",
       "    }\n",
       "\n",
       "    .dataframe tbody tr th {\n",
       "        vertical-align: top;\n",
       "    }\n",
       "\n",
       "    .dataframe thead th {\n",
       "        text-align: right;\n",
       "    }\n",
       "</style>\n",
       "<table border=\"1\" class=\"dataframe\">\n",
       "  <thead>\n",
       "    <tr style=\"text-align: right;\">\n",
       "      <th></th>\n",
       "      <th>Names</th>\n",
       "      <th>Age</th>\n",
       "      <th>Total_Purchase</th>\n",
       "      <th>Account_Manager</th>\n",
       "      <th>Years</th>\n",
       "      <th>Num_Sites</th>\n",
       "      <th>Onboard_date</th>\n",
       "      <th>Location</th>\n",
       "      <th>Company</th>\n",
       "      <th>Churn</th>\n",
       "    </tr>\n",
       "  </thead>\n",
       "  <tbody>\n",
       "    <tr>\n",
       "      <th>0</th>\n",
       "      <td>Cameron Williams</td>\n",
       "      <td>42.0</td>\n",
       "      <td>11066.80</td>\n",
       "      <td>0</td>\n",
       "      <td>7.22</td>\n",
       "      <td>8.0</td>\n",
       "      <td>2013-08-30 07:00:40</td>\n",
       "      <td>10265 Elizabeth Mission Barkerburgh, AK 89518</td>\n",
       "      <td>Harvey LLC</td>\n",
       "      <td>1</td>\n",
       "    </tr>\n",
       "    <tr>\n",
       "      <th>1</th>\n",
       "      <td>Kevin Mueller</td>\n",
       "      <td>41.0</td>\n",
       "      <td>11916.22</td>\n",
       "      <td>0</td>\n",
       "      <td>6.50</td>\n",
       "      <td>11.0</td>\n",
       "      <td>2013-08-13 00:38:46</td>\n",
       "      <td>6157 Frank Gardens Suite 019 Carloshaven, RI 1...</td>\n",
       "      <td>Wilson PLC</td>\n",
       "      <td>1</td>\n",
       "    </tr>\n",
       "    <tr>\n",
       "      <th>2</th>\n",
       "      <td>Eric Lozano</td>\n",
       "      <td>38.0</td>\n",
       "      <td>12884.75</td>\n",
       "      <td>0</td>\n",
       "      <td>6.67</td>\n",
       "      <td>12.0</td>\n",
       "      <td>2016-06-29 06:20:07</td>\n",
       "      <td>1331 Keith Court Alyssahaven, DE 90114</td>\n",
       "      <td>Miller, Johnson and Wallace</td>\n",
       "      <td>1</td>\n",
       "    </tr>\n",
       "    <tr>\n",
       "      <th>3</th>\n",
       "      <td>Phillip White</td>\n",
       "      <td>42.0</td>\n",
       "      <td>8010.76</td>\n",
       "      <td>0</td>\n",
       "      <td>6.71</td>\n",
       "      <td>10.0</td>\n",
       "      <td>2014-04-22 12:43:12</td>\n",
       "      <td>13120 Daniel Mount Angelabury, WY 30645-4695</td>\n",
       "      <td>Smith Inc</td>\n",
       "      <td>1</td>\n",
       "    </tr>\n",
       "    <tr>\n",
       "      <th>4</th>\n",
       "      <td>Cynthia Norton</td>\n",
       "      <td>37.0</td>\n",
       "      <td>9191.58</td>\n",
       "      <td>0</td>\n",
       "      <td>5.56</td>\n",
       "      <td>9.0</td>\n",
       "      <td>2016-01-19 15:31:15</td>\n",
       "      <td>765 Tricia Row Karenshire, MH 71730</td>\n",
       "      <td>Love-Jones</td>\n",
       "      <td>1</td>\n",
       "    </tr>\n",
       "  </tbody>\n",
       "</table>\n",
       "</div>\n",
       "    <div class=\"colab-df-buttons\">\n",
       "\n",
       "  <div class=\"colab-df-container\">\n",
       "    <button class=\"colab-df-convert\" onclick=\"convertToInteractive('df-020091ff-2954-435e-bb2a-33905b99a8c7')\"\n",
       "            title=\"Convert this dataframe to an interactive table.\"\n",
       "            style=\"display:none;\">\n",
       "\n",
       "  <svg xmlns=\"http://www.w3.org/2000/svg\" height=\"24px\" viewBox=\"0 -960 960 960\">\n",
       "    <path d=\"M120-120v-720h720v720H120Zm60-500h600v-160H180v160Zm220 220h160v-160H400v160Zm0 220h160v-160H400v160ZM180-400h160v-160H180v160Zm440 0h160v-160H620v160ZM180-180h160v-160H180v160Zm440 0h160v-160H620v160Z\"/>\n",
       "  </svg>\n",
       "    </button>\n",
       "\n",
       "  <style>\n",
       "    .colab-df-container {\n",
       "      display:flex;\n",
       "      gap: 12px;\n",
       "    }\n",
       "\n",
       "    .colab-df-convert {\n",
       "      background-color: #E8F0FE;\n",
       "      border: none;\n",
       "      border-radius: 50%;\n",
       "      cursor: pointer;\n",
       "      display: none;\n",
       "      fill: #1967D2;\n",
       "      height: 32px;\n",
       "      padding: 0 0 0 0;\n",
       "      width: 32px;\n",
       "    }\n",
       "\n",
       "    .colab-df-convert:hover {\n",
       "      background-color: #E2EBFA;\n",
       "      box-shadow: 0px 1px 2px rgba(60, 64, 67, 0.3), 0px 1px 3px 1px rgba(60, 64, 67, 0.15);\n",
       "      fill: #174EA6;\n",
       "    }\n",
       "\n",
       "    .colab-df-buttons div {\n",
       "      margin-bottom: 4px;\n",
       "    }\n",
       "\n",
       "    [theme=dark] .colab-df-convert {\n",
       "      background-color: #3B4455;\n",
       "      fill: #D2E3FC;\n",
       "    }\n",
       "\n",
       "    [theme=dark] .colab-df-convert:hover {\n",
       "      background-color: #434B5C;\n",
       "      box-shadow: 0px 1px 3px 1px rgba(0, 0, 0, 0.15);\n",
       "      filter: drop-shadow(0px 1px 2px rgba(0, 0, 0, 0.3));\n",
       "      fill: #FFFFFF;\n",
       "    }\n",
       "  </style>\n",
       "\n",
       "    <script>\n",
       "      const buttonEl =\n",
       "        document.querySelector('#df-020091ff-2954-435e-bb2a-33905b99a8c7 button.colab-df-convert');\n",
       "      buttonEl.style.display =\n",
       "        google.colab.kernel.accessAllowed ? 'block' : 'none';\n",
       "\n",
       "      async function convertToInteractive(key) {\n",
       "        const element = document.querySelector('#df-020091ff-2954-435e-bb2a-33905b99a8c7');\n",
       "        const dataTable =\n",
       "          await google.colab.kernel.invokeFunction('convertToInteractive',\n",
       "                                                    [key], {});\n",
       "        if (!dataTable) return;\n",
       "\n",
       "        const docLinkHtml = 'Like what you see? Visit the ' +\n",
       "          '<a target=\"_blank\" href=https://colab.research.google.com/notebooks/data_table.ipynb>data table notebook</a>'\n",
       "          + ' to learn more about interactive tables.';\n",
       "        element.innerHTML = '';\n",
       "        dataTable['output_type'] = 'display_data';\n",
       "        await google.colab.output.renderOutput(dataTable, element);\n",
       "        const docLink = document.createElement('div');\n",
       "        docLink.innerHTML = docLinkHtml;\n",
       "        element.appendChild(docLink);\n",
       "      }\n",
       "    </script>\n",
       "  </div>\n",
       "\n",
       "\n",
       "<div id=\"df-02b42b47-2280-4ef8-9289-1390002e380a\">\n",
       "  <button class=\"colab-df-quickchart\" onclick=\"quickchart('df-02b42b47-2280-4ef8-9289-1390002e380a')\"\n",
       "            title=\"Suggest charts\"\n",
       "            style=\"display:none;\">\n",
       "\n",
       "<svg xmlns=\"http://www.w3.org/2000/svg\" height=\"24px\"viewBox=\"0 0 24 24\"\n",
       "     width=\"24px\">\n",
       "    <g>\n",
       "        <path d=\"M19 3H5c-1.1 0-2 .9-2 2v14c0 1.1.9 2 2 2h14c1.1 0 2-.9 2-2V5c0-1.1-.9-2-2-2zM9 17H7v-7h2v7zm4 0h-2V7h2v10zm4 0h-2v-4h2v4z\"/>\n",
       "    </g>\n",
       "</svg>\n",
       "  </button>\n",
       "\n",
       "<style>\n",
       "  .colab-df-quickchart {\n",
       "      --bg-color: #E8F0FE;\n",
       "      --fill-color: #1967D2;\n",
       "      --hover-bg-color: #E2EBFA;\n",
       "      --hover-fill-color: #174EA6;\n",
       "      --disabled-fill-color: #AAA;\n",
       "      --disabled-bg-color: #DDD;\n",
       "  }\n",
       "\n",
       "  [theme=dark] .colab-df-quickchart {\n",
       "      --bg-color: #3B4455;\n",
       "      --fill-color: #D2E3FC;\n",
       "      --hover-bg-color: #434B5C;\n",
       "      --hover-fill-color: #FFFFFF;\n",
       "      --disabled-bg-color: #3B4455;\n",
       "      --disabled-fill-color: #666;\n",
       "  }\n",
       "\n",
       "  .colab-df-quickchart {\n",
       "    background-color: var(--bg-color);\n",
       "    border: none;\n",
       "    border-radius: 50%;\n",
       "    cursor: pointer;\n",
       "    display: none;\n",
       "    fill: var(--fill-color);\n",
       "    height: 32px;\n",
       "    padding: 0;\n",
       "    width: 32px;\n",
       "  }\n",
       "\n",
       "  .colab-df-quickchart:hover {\n",
       "    background-color: var(--hover-bg-color);\n",
       "    box-shadow: 0 1px 2px rgba(60, 64, 67, 0.3), 0 1px 3px 1px rgba(60, 64, 67, 0.15);\n",
       "    fill: var(--button-hover-fill-color);\n",
       "  }\n",
       "\n",
       "  .colab-df-quickchart-complete:disabled,\n",
       "  .colab-df-quickchart-complete:disabled:hover {\n",
       "    background-color: var(--disabled-bg-color);\n",
       "    fill: var(--disabled-fill-color);\n",
       "    box-shadow: none;\n",
       "  }\n",
       "\n",
       "  .colab-df-spinner {\n",
       "    border: 2px solid var(--fill-color);\n",
       "    border-color: transparent;\n",
       "    border-bottom-color: var(--fill-color);\n",
       "    animation:\n",
       "      spin 1s steps(1) infinite;\n",
       "  }\n",
       "\n",
       "  @keyframes spin {\n",
       "    0% {\n",
       "      border-color: transparent;\n",
       "      border-bottom-color: var(--fill-color);\n",
       "      border-left-color: var(--fill-color);\n",
       "    }\n",
       "    20% {\n",
       "      border-color: transparent;\n",
       "      border-left-color: var(--fill-color);\n",
       "      border-top-color: var(--fill-color);\n",
       "    }\n",
       "    30% {\n",
       "      border-color: transparent;\n",
       "      border-left-color: var(--fill-color);\n",
       "      border-top-color: var(--fill-color);\n",
       "      border-right-color: var(--fill-color);\n",
       "    }\n",
       "    40% {\n",
       "      border-color: transparent;\n",
       "      border-right-color: var(--fill-color);\n",
       "      border-top-color: var(--fill-color);\n",
       "    }\n",
       "    60% {\n",
       "      border-color: transparent;\n",
       "      border-right-color: var(--fill-color);\n",
       "    }\n",
       "    80% {\n",
       "      border-color: transparent;\n",
       "      border-right-color: var(--fill-color);\n",
       "      border-bottom-color: var(--fill-color);\n",
       "    }\n",
       "    90% {\n",
       "      border-color: transparent;\n",
       "      border-bottom-color: var(--fill-color);\n",
       "    }\n",
       "  }\n",
       "</style>\n",
       "\n",
       "  <script>\n",
       "    async function quickchart(key) {\n",
       "      const quickchartButtonEl =\n",
       "        document.querySelector('#' + key + ' button');\n",
       "      quickchartButtonEl.disabled = true;  // To prevent multiple clicks.\n",
       "      quickchartButtonEl.classList.add('colab-df-spinner');\n",
       "      try {\n",
       "        const charts = await google.colab.kernel.invokeFunction(\n",
       "            'suggestCharts', [key], {});\n",
       "      } catch (error) {\n",
       "        console.error('Error during call to suggestCharts:', error);\n",
       "      }\n",
       "      quickchartButtonEl.classList.remove('colab-df-spinner');\n",
       "      quickchartButtonEl.classList.add('colab-df-quickchart-complete');\n",
       "    }\n",
       "    (() => {\n",
       "      let quickchartButtonEl =\n",
       "        document.querySelector('#df-02b42b47-2280-4ef8-9289-1390002e380a button');\n",
       "      quickchartButtonEl.style.display =\n",
       "        google.colab.kernel.accessAllowed ? 'block' : 'none';\n",
       "    })();\n",
       "  </script>\n",
       "</div>\n",
       "\n",
       "    </div>\n",
       "  </div>\n"
      ],
      "text/plain": [
       "              Names   Age  Total_Purchase  Account_Manager  Years  Num_Sites  \\\n",
       "0  Cameron Williams  42.0        11066.80                0   7.22        8.0   \n",
       "1     Kevin Mueller  41.0        11916.22                0   6.50       11.0   \n",
       "2       Eric Lozano  38.0        12884.75                0   6.67       12.0   \n",
       "3     Phillip White  42.0         8010.76                0   6.71       10.0   \n",
       "4    Cynthia Norton  37.0         9191.58                0   5.56        9.0   \n",
       "\n",
       "          Onboard_date                                           Location  \\\n",
       "0  2013-08-30 07:00:40      10265 Elizabeth Mission Barkerburgh, AK 89518   \n",
       "1  2013-08-13 00:38:46  6157 Frank Gardens Suite 019 Carloshaven, RI 1...   \n",
       "2  2016-06-29 06:20:07             1331 Keith Court Alyssahaven, DE 90114   \n",
       "3  2014-04-22 12:43:12       13120 Daniel Mount Angelabury, WY 30645-4695   \n",
       "4  2016-01-19 15:31:15                765 Tricia Row Karenshire, MH 71730   \n",
       "\n",
       "                       Company  Churn  \n",
       "0                   Harvey LLC      1  \n",
       "1                   Wilson PLC      1  \n",
       "2  Miller, Johnson and Wallace      1  \n",
       "3                    Smith Inc      1  \n",
       "4                   Love-Jones      1  "
      ]
     },
     "execution_count": 100,
     "metadata": {},
     "output_type": "execute_result"
    }
   ],
   "source": [
    "df = pd.read_csv('customer_churn.csv')\n",
    "df.head()"
   ]
  },
  {
   "cell_type": "code",
   "execution_count": 55,
   "id": "s2iNszxHus-Y",
   "metadata": {
    "id": "s2iNszxHus-Y"
   },
   "outputs": [],
   "source": [
    "df[\"Age\"] = df[\"Age\"].astype(int)\n",
    "df[\"Account_Manager\"] = df[\"Account_Manager\"].astype(bool)\n",
    "df[\"Years\"] = df[\"Years\"].astype(float)\n",
    "df[\"Num_Sites\"] = df[\"Num_Sites\"].astype(int)\n",
    "df[\"Churn\"] = df[\"Churn\"].astype(bool)\n",
    "df[\"Account_Manager\"] = df['Account_Manager'].astype(bool)"
   ]
  },
  {
   "cell_type": "markdown",
   "id": "8riF_ZkG7oxa",
   "metadata": {
    "id": "8riF_ZkG7oxa"
   },
   "source": [
    "## EDA"
   ]
  },
  {
   "cell_type": "code",
   "execution_count": 59,
   "id": "G9c6fKEe7son",
   "metadata": {
    "colab": {
     "base_uri": "https://localhost:8080/",
     "height": 472
    },
    "id": "G9c6fKEe7son",
    "outputId": "0b6b04f1-e797-4313-ed63-a363f5f9a113"
   },
   "outputs": [
    {
     "data": {
      "image/png": "[encoded data removed]",
      "text/plain": [
       "<Figure size 640x480 with 1 Axes>"
      ]
     },
     "metadata": {},
     "output_type": "display_data"
    }
   ],
   "source": [
    "churns = df[\"Churn\"].value_counts().reset_index()\n",
    "sns.barplot(x=\"Churn\", y=\"count\", data=churns)\n",
    "plt.title(\"Churn Distribution\")\n",
    "plt.show()"
   ]
  },
  {
   "cell_type": "code",
   "execution_count": 26,
   "id": "s4qA8gMVuUXq",
   "metadata": {
    "colab": {
     "base_uri": "https://localhost:8080/",
     "height": 564
    },
    "id": "s4qA8gMVuUXq",
    "outputId": "4287675a-6ccd-44e3-8b05-326d9187dad8"
   },
   "outputs": [
    {
     "data": {
      "image/png": "[encoded data removed]",
      "text/plain": [
       "<Figure size 1000x600 with 1 Axes>"
      ]
     },
     "metadata": {},
     "output_type": "display_data"
    }
   ],
   "source": [
    "# Assuming your dataframe is named 'df' and has columns 'Age' and 'Churn'\n",
    "\n",
    "# Create the distribution plot\n",
    "plt.figure(figsize=(10, 6))  # Adjust figure size as needed\n",
    "sns.boxplot(data=df, x='Churn', y = \"Age\")\n",
    "\n",
    "# Set plot labels and title\n",
    "plt.xlabel('Churn')\n",
    "plt.ylabel('Age')\n",
    "plt.title('Distribution of Ages by Churn')\n",
    "\n",
    "# Display the plot\n",
    "plt.show()"
   ]
  },
  {
   "cell_type": "code",
   "execution_count": 72,
   "id": "goay1a2Hqzzx",
   "metadata": {
    "colab": {
     "base_uri": "https://localhost:8080/",
     "height": 546
    },
    "id": "goay1a2Hqzzx",
    "outputId": "9c035272-fc80-438f-de12-513e4dda5925"
   },
   "outputs": [
    {
     "data": {
      "text/plain": [
       "<Figure size 2000x600 with 0 Axes>"
      ]
     },
     "metadata": {},
     "output_type": "display_data"
    },
    {
     "data": {
      "image/png": "[encoded data removed]",
      "text/plain": [
       "<Figure size 500x500 with 1 Axes>"
      ]
     },
     "metadata": {},
     "output_type": "display_data"
    }
   ],
   "source": [
    "\n",
    "# Group by year and sum the churns\n",
    "churn_by_age = df.groupby('Age')['Churn'].sum().reset_index()\n",
    "\n",
    "# Create the plot using Seaborn\n",
    "plt.figure(figsize=(20, 6))  # Adjust figure size if needed\n",
    "sns.displot(x='Age', y='Churn', data=churn_by_age)\n",
    "plt.xlabel(\"Year\")\n",
    "plt.ylabel(\"Number of Churns\")\n",
    "plt.title(\"Churn Rate Over Age\")\n",
    "plt.show()"
   ]
  },
  {
   "cell_type": "code",
   "execution_count": 29,
   "id": "V2gW04XTuzz1",
   "metadata": {
    "colab": {
     "base_uri": "https://localhost:8080/",
     "height": 469
    },
    "id": "V2gW04XTuzz1",
    "outputId": "851c3355-3d3e-4983-805b-d0f0f06cb720"
   },
   "outputs": [
    {
     "data": {
      "image/png": "[encoded data removed]",
      "text/plain": [
       "<Figure size 1200x600 with 1 Axes>"
      ]
     },
     "metadata": {},
     "output_type": "display_data"
    }
   ],
   "source": [
    "import pandas as pd\n",
    "\n",
    "import matplotlib.pyplot as plt\n",
    "import seaborn as sns\n",
    "\n",
    "# Assuming your dataframe is named 'df' and has columns 'TotalCharges' and 'Churn'\n",
    "\n",
    "# Create a new column for total purchase in thousands\n",
    "df['TotalPurchaseThousands'] = pd.cut(df['Total_Purchase'], bins=np.arange(0, df['Total_Purchase'].max() + 1000, 1000), labels=False, include_lowest=True)\n",
    "\n",
    "# Group by total purchase in thousands and calculate churn rate\n",
    "churn_by_purchase = df.groupby('TotalPurchaseThousands')['Churn'].count().reset_index()\n",
    "\n",
    "# Create the plot using Seaborn\n",
    "plt.figure(figsize=(12, 6))  # Adjust figure size if needed\n",
    "sns.barplot(x='TotalPurchaseThousands', y='Churn', data=churn_by_purchase)\n",
    "plt.xlabel(\"Total Purchase (Thousands)\")\n",
    "plt.ylabel(\"Churn Rate\")\n",
    "plt.title(\"Churn Rate vs. Total Purchase\")\n",
    "plt.xticks(rotation=45, ha='right')  # Rotate x-axis labels for better readability\n",
    "plt.tight_layout()  # Adjust layout to prevent labels from overlapping\n",
    "plt.show()"
   ]
  },
  {
   "cell_type": "code",
   "execution_count": 47,
   "id": "uJutU3YJyL9e",
   "metadata": {
    "colab": {
     "base_uri": "https://localhost:8080/",
     "height": 564
    },
    "id": "uJutU3YJyL9e",
    "outputId": "0f6938f3-4110-46bf-b104-53fc75acaaf8"
   },
   "outputs": [
    {
     "data": {
      "image/png": "[encoded data removed]",
      "text/plain": [
       "<Figure size 800x600 with 1 Axes>"
      ]
     },
     "metadata": {},
     "output_type": "display_data"
    }
   ],
   "source": [
    "churn_by_account_manager = df[[\"Account_Manager\",\"Churn\"]].value_counts().reset_index()\n",
    "plt.figure(figsize=(8, 6))  # Adjust figure size if needed\n",
    "sns.barplot(x='Churn', y='count', hue='Account_Manager', data=churn_by_account_manager)\n",
    "plt.xlabel(\"Account Manager\")\n",
    "plt.ylabel(\"Count\")\n",
    "plt.title(\"Churn Distribution by Account Manager\")\n",
    "plt.show()"
   ]
  },
  {
   "cell_type": "code",
   "execution_count": 49,
   "id": "3s4eOTrmzngT",
   "metadata": {
    "colab": {
     "base_uri": "https://localhost:8080/",
     "height": 564
    },
    "id": "3s4eOTrmzngT",
    "outputId": "3b2b0ced-b59e-4853-ddc0-ca230673070a"
   },
   "outputs": [
    {
     "data": {
      "image/png": "[encoded data removed]",
      "text/plain": [
       "<Figure size 1000x600 with 1 Axes>"
      ]
     },
     "metadata": {},
     "output_type": "display_data"
    }
   ],
   "source": [
    "plt.figure(figsize=(10, 6))  # Adjust figure size as needed\n",
    "sns.boxplot(x='Churn', y='Years', data=df)\n",
    "plt.xlabel('Churn')\n",
    "plt.ylabel('Years')\n",
    "plt.title('Relationship between Years and Churn')\n",
    "plt.show()"
   ]
  },
  {
   "cell_type": "markdown",
   "id": "c0HbSbLY-Ro4",
   "metadata": {
    "id": "c0HbSbLY-Ro4"
   },
   "source": [
    "### STATS EDA"
   ]
  },
  {
   "cell_type": "code",
   "execution_count": 199,
   "id": "T0LUpsM79125",
   "metadata": {
    "id": "T0LUpsM79125"
   },
   "outputs": [],
   "source": [
    "vars = ['Age','Total_Purchase', 'Account_Manager', 'Years', 'Num_Sites', 'Churn']\n",
    "x_vars = [\"Age\",\"Years\",\"Num_Sites\",\"Account_Manager\"]\n",
    "y_vars = [\"Churn\"]\n",
    "df_stats = df[vars]"
   ]
  },
  {
   "cell_type": "code",
   "execution_count": 200,
   "id": "1_c3e4cN-YlJ",
   "metadata": {
    "id": "1_c3e4cN-YlJ"
   },
   "outputs": [],
   "source": [
    "y = df_stats[['Churn']]\n",
    "X = df_stats[x_vars]\n"
   ]
  },
  {
   "cell_type": "code",
   "execution_count": 204,
   "id": "7RLlMZ1YBHsj",
   "metadata": {
    "id": "7RLlMZ1YBHsj"
   },
   "outputs": [],
   "source": [
    "X_train, X_rest, y_train, y_rest = train_test_split(X, y, test_size=0.3, stratify=df_stats[\"Churn\"],random_state=42)\n",
    "X_valid, X_test, y_valid, y_test = train_test_split(X_rest, y_rest, test_size=0.5,stratify = y_rest[\"Churn\"],random_state=42)"
   ]
  },
  {
   "cell_type": "code",
   "execution_count": 205,
   "id": "FCLSDddeCols",
   "metadata": {
    "id": "FCLSDddeCols"
   },
   "outputs": [],
   "source": [
    "X_train = sm.add_constant(X_train)\n",
    "X_valid = sm.add_constant(X_valid)\n",
    "X_test = sm.add_constant(X_test)"
   ]
  },
  {
   "cell_type": "code",
   "execution_count": 206,
   "id": "uRCZmOEX-56T",
   "metadata": {
    "colab": {
     "base_uri": "https://localhost:8080/"
    },
    "id": "uRCZmOEX-56T",
    "outputId": "0de14025-74fc-4dec-a2f6-0d8274836cb1"
   },
   "outputs": [
    {
     "name": "stdout",
     "output_type": "stream",
     "text": [
      "Optimization terminated successfully.\n",
      "         Current function value: 0.272873\n",
      "         Iterations 8\n",
      "                           Logit Regression Results                           \n",
      "==============================================================================\n",
      "Dep. Variable:                  Churn   No. Observations:                  630\n",
      "Model:                          Logit   Df Residuals:                      625\n",
      "Method:                           MLE   Df Model:                            4\n",
      "Date:                Wed, 19 Mar 2025   Pseudo R-squ.:                  0.3944\n",
      "Time:                        16:03:41   Log-Likelihood:                -171.91\n",
      "converged:                       True   LL-Null:                       -283.85\n",
      "Covariance Type:            nonrobust   LLR p-value:                 2.731e-47\n",
      "===================================================================================\n",
      "                      coef    std err          z      P>|z|      [0.025      0.975]\n",
      "-----------------------------------------------------------------------------------\n",
      "const             -17.8137      1.797     -9.914      0.000     -21.335     -14.292\n",
      "Age                 0.0458      0.023      1.984      0.047       0.001       0.091\n",
      "Years               0.6089      0.117      5.206      0.000       0.380       0.838\n",
      "Num_Sites           1.1207      0.112     10.046      0.000       0.902       1.339\n",
      "Account_Manager     0.5505      0.279      1.972      0.049       0.003       1.098\n",
      "===================================================================================\n"
     ]
    }
   ],
   "source": [
    "log_reg = sm.Logit(y_train, X_train).fit()    # Describe model\n",
    "print(log_reg.summary())   # Summarize model\n",
    "\n"
   ]
  },
  {
   "cell_type": "code",
   "execution_count": 213,
   "id": "7GnE6KcC_F95",
   "metadata": {
    "colab": {
     "base_uri": "https://localhost:8080/"
    },
    "id": "7GnE6KcC_F95",
    "outputId": "25e32106-48b3-4b90-fc54-26bd66719cb6"
   },
   "outputs": [
    {
     "name": "stdout",
     "output_type": "stream",
     "text": [
      "Actual values [0, 1, 0, 0, 0, 0, 1, 0, 0, 0, 0, 0, 0, 0, 0, 1, 0, 0, 0, 0, 0, 0, 1, 0, 0, 0, 0, 0, 0, 0, 1, 0, 0, 1, 0, 0, 0, 0, 0, 0, 0, 0, 0, 1, 0, 1, 0, 0, 1, 1, 0, 0, 1, 0, 0, 0, 0, 0, 0, 0, 0, 0, 0, 0, 1, 1, 0, 0, 0, 0, 0, 0, 0, 0, 0, 0, 0, 0, 0, 0, 0, 0, 1, 0, 0, 1, 1, 0, 0, 0, 1, 1, 0, 0, 0, 1, 0, 0, 0, 0, 0, 0, 0, 0, 1, 0, 0, 0, 0, 0, 0, 0, 0, 1, 0, 0, 0, 0, 0, 0, 0, 0, 0, 0, 0, 0, 0, 0, 0, 0, 0, 0, 1, 0, 1]\n",
      "Predictions : [0, 1, 1, 0, 0, 0, 0, 0, 0, 0, 0, 0, 0, 0, 0, 1, 0, 0, 0, 0, 0, 1, 1, 0, 0, 0, 0, 0, 1, 0, 1, 0, 0, 1, 0, 1, 0, 0, 0, 0, 0, 1, 0, 0, 0, 0, 0, 0, 1, 1, 0, 0, 1, 0, 0, 0, 0, 0, 0, 1, 0, 0, 0, 0, 1, 1, 0, 0, 0, 1, 0, 0, 0, 0, 0, 0, 0, 1, 1, 0, 0, 0, 1, 0, 0, 1, 1, 0, 0, 0, 1, 1, 0, 0, 0, 1, 0, 0, 0, 0, 0, 0, 0, 0, 1, 0, 0, 0, 0, 0, 1, 0, 0, 1, 0, 0, 0, 0, 1, 0, 0, 0, 0, 0, 0, 0, 0, 0, 0, 0, 0, 0, 1, 0, 0]\n"
     ]
    }
   ],
   "source": [
    "# performing predictions on the test dataset\n",
    "yhat = log_reg.predict(X_valid)\n",
    "thresh = 0.5\n",
    "prediction = [0 if hat<thresh else 1 for hat in yhat]\n",
    "\n",
    "# comparing original and predicted values of y\n",
    "print('Actual values', [int(x[0]) for x in y_valid.values])\n",
    "print('Predictions :', prediction)"
   ]
  },
  {
   "cell_type": "code",
   "execution_count": 214,
   "id": "R1QQiPOnDt3L",
   "metadata": {
    "colab": {
     "base_uri": "https://localhost:8080/"
    },
    "id": "R1QQiPOnDt3L",
    "outputId": "9c200332-a995-4497-910b-3bd557c973c6"
   },
   "outputs": [
    {
     "name": "stdout",
     "output_type": "stream",
     "text": [
      "Confusion Matrix : \n",
      " [[101  11]\n",
      " [  4  19]]\n",
      "Precision score= 0.6333333333333333\n",
      "Recall score= 0.8260869565217391\n",
      "F1 score= 0.7169811320754716\n"
     ]
    }
   ],
   "source": [
    "\n",
    "# confusion matrix\n",
    "cm = confusion_matrix(y_valid, prediction)\n",
    "print (\"Confusion Matrix : \\n\", cm)\n",
    "\n",
    "# accuracy score of the model\n",
    "print('Precision score=', precision_score(y_valid, prediction))\n",
    "print('Recall score=', recall_score(y_valid, prediction))\n",
    "print('F1 score=', f1_score(y_valid, prediction))"
   ]
  },
  {
   "cell_type": "code",
   "execution_count": 215,
   "id": "amcZlHvREJOV",
   "metadata": {
    "colab": {
     "base_uri": "https://localhost:8080/",
     "height": 564
    },
    "id": "amcZlHvREJOV",
    "outputId": "11145893-e76b-403c-c833-2279919ef610"
   },
   "outputs": [
    {
     "data": {
      "image/png": "[encoded data removed]",
      "text/plain": [
       "<Figure size 800x600 with 2 Axes>"
      ]
     },
     "metadata": {},
     "output_type": "display_data"
    }
   ],
   "source": [
    "# Create the heatmap\n",
    "plt.figure(figsize=(8, 6))  # Adjust figure size if needed\n",
    "sns.heatmap(cm, annot=True, fmt=\"d\", cmap=\"Blues\")\n",
    "plt.xlabel(\"Predicted Label\")\n",
    "plt.ylabel(\"True Label\")\n",
    "plt.title(\"Confusion Matrix of Churns\")\n",
    "plt.show()"
   ]
  },
  {
   "cell_type": "code",
   "execution_count": 219,
   "id": "T_Hy6sZ2Ictz",
   "metadata": {
    "colab": {
     "base_uri": "https://localhost:8080/"
    },
    "id": "T_Hy6sZ2Ictz",
    "outputId": "ff0b487d-b360-4413-a1d2-df437e0f30f7"
   },
   "outputs": [
    {
     "data": {
      "text/plain": [
       "np.float64(0.8639363354037267)"
      ]
     },
     "execution_count": 219,
     "metadata": {},
     "output_type": "execute_result"
    }
   ],
   "source": [
    "y_probs = np.arange(0.1,0.9,0.1)\n",
    "roc_auc_score(y_valid,prediction)"
   ]
  }
 ],
 "metadata": {
  "colab": {
   "include_colab_link": true,
   "provenance": [],
   "toc_visible": true
  },
  "kernelspec": {
   "display_name": "Python 3 (ipykernel)",
   "language": "python",
   "name": "python3"
  },
  "language_info": {
   "codemirror_mode": {
    "name": "ipython",
    "version": 3
   },
   "file_extension": ".py",
   "mimetype": "text/x-python",
   "name": "python",
   "nbconvert_exporter": "python",
   "pygments_lexer": "ipython3",
   "version": "3.9.13"
  }
 },
 "nbformat": 4,
 "nbformat_minor": 5
}